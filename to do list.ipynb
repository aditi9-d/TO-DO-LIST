{
 "cells": [
  {
   "cell_type": "markdown",
   "id": "808613a7-a045-4337-8247-a24885d54efe",
   "metadata": {},
   "source": [
    "TO-DO LIST APPLICATION (Tkinter)"
   ]
  },
  {
   "cell_type": "code",
   "execution_count": 9,
   "id": "39827a64-017f-41a5-995f-e9d831aa34b1",
   "metadata": {},
   "outputs": [],
   "source": [
    "import tkinter as tk\n",
    "from tkinter import messagebox\n",
    "from tkinter.font import Font\n",
    "\n",
    "# Function to add a task\n",
    "def add_task():\n",
    "    task = entry.get()\n",
    "    if task:\n",
    "        listbox.insert(tk.END, task)\n",
    "        entry.delete(0, tk.END)\n",
    "    else:\n",
    "        messagebox.showwarning(\"Warning\", \"Please enter a task.\")\n",
    "\n",
    "# Function to delete selected task\n",
    "def delete_task():\n",
    "    try:\n",
    "        index = listbox.curselection()\n",
    "        listbox.delete(index)\n",
    "    except:\n",
    "        messagebox.showwarning(\"Warning\", \"Please select a task to delete.\")\n",
    "\n",
    "# Function to toggle completion status of selected task\n",
    "def toggle_task():\n",
    "    try:\n",
    "        index = listbox.curselection()\n",
    "        task_text = listbox.get(index)\n",
    "        if task_text.startswith(\"✓ \"):\n",
    "            task_text = task_text[2:]  # Remove the checkmark\n",
    "        else:\n",
    "            task_text = \"✓ \" + task_text  # Add the checkmark\n",
    "        listbox.delete(index)\n",
    "        listbox.insert(index, task_text)\n",
    "    except:\n",
    "        messagebox.showwarning(\"Warning\", \"Please select the task you've done.\")\n",
    "\n",
    "# Initialize Tkinter window\n",
    "window = tk.Tk()\n",
    "window.title(\"To-Do List\")\n",
    "window.configure(bg=\"grey\")\n",
    "\n",
    "# Define custom font for tasks\n",
    "task_font = Font(family=\"Arial\", size=14)\n",
    "\n",
    "# Entry widget for adding new tasks\n",
    "entry = tk.Entry(window, width=30, font=task_font)\n",
    "entry.pack(pady=10)\n",
    "\n",
    "# Listbox to display tasks\n",
    "listbox = tk.Listbox(window, width=50, height=10, font=task_font)\n",
    "listbox.pack(pady=10)\n",
    "\n",
    "# Button to add task\n",
    "add_button = tk.Button(window, text=\"Add Task\", width=15, command=add_task)\n",
    "add_button.pack(pady=5)\n",
    "\n",
    "# Button to delete selected task\n",
    "delete_button = tk.Button(window, text=\"Delete Task\", width=15, command=delete_task)\n",
    "delete_button.pack(pady=5)\n",
    "\n",
    "# Button to mark selected task as completed\n",
    "toggle_button = tk.Button(window, text=\"Mark as Completed\", width=15, command=toggle_task)\n",
    "toggle_button.pack(pady=5)\n",
    "\n",
    "# Start the GUI event loop\n",
    "window.mainloop()"
   ]
  },
  {
   "cell_type": "code",
   "execution_count": null,
   "id": "296558c8-5c6d-4ac6-9c37-8a9699360592",
   "metadata": {},
   "outputs": [],
   "source": []
  }
 ],
 "metadata": {
  "kernelspec": {
   "display_name": "Python [conda env:anaconda3]",
   "language": "python",
   "name": "conda-env-anaconda3-py"
  },
  "language_info": {
   "codemirror_mode": {
    "name": "ipython",
    "version": 3
   },
   "file_extension": ".py",
   "mimetype": "text/x-python",
   "name": "python",
   "nbconvert_exporter": "python",
   "pygments_lexer": "ipython3",
   "version": "3.12.7"
  }
 },
 "nbformat": 4,
 "nbformat_minor": 5
}
